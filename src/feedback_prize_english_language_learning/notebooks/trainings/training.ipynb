{
 "cells": [
  {
   "cell_type": "code",
   "execution_count": 1,
   "metadata": {},
   "outputs": [],
   "source": [
    "%load_ext autoreload\n",
    "%autoreload 2"
   ]
  },
  {
   "cell_type": "code",
   "execution_count": 2,
   "metadata": {},
   "outputs": [],
   "source": [
    "import torch\n",
    "import lightning.pytorch as pl\n",
    "from lightning.pytorch.callbacks import EarlyStopping, ModelCheckpoint, LearningRateMonitor\n",
    "from lightning.pytorch.loggers import CSVLogger, TensorBoardLogger\n",
    "from lightning.pytorch.profilers import PyTorchProfiler\n",
    "\n",
    "import pandas as pd\n",
    "from tqdm import tqdm\n",
    "from dotenv import load_dotenv\n",
    "load_dotenv()\n",
    "tqdm.pandas()\n",
    "\n",
    "from src.feedback_prize_english_language_learning.lib.data.data_utils import (\n",
    "    load_datasets, \n",
    "    preprocessing_datasets,\n",
    "    select_features_split_datasets,\n",
    ")\n",
    "from src.feedback_prize_english_language_learning.lib.data.data_module import NLPDataModule\n",
    "from src.feedback_prize_english_language_learning.lib.models.BertRegression import BertRegression\n",
    "from src.feedback_prize_english_language_learning.lib.config import Config, DataModuleConfig, ModuleConfig\n",
    "from src.feedback_prize_english_language_learning.lib.utils import create_dirs"
   ]
  },
  {
   "cell_type": "code",
   "execution_count": 3,
   "metadata": {},
   "outputs": [],
   "source": [
    "pd.set_option('display.max_columns', None)\n",
    "pd.set_option('display.max_rows', None)\n",
    "create_dirs([Config.cache_dir, Config.log_dir, Config.ckpt_dir, Config.prof_dir, Config.perf_dir])\n",
    "torch.set_float32_matmul_precision(\"medium\")"
   ]
  },
  {
   "cell_type": "code",
   "execution_count": 5,
   "metadata": {},
   "outputs": [
    {
     "data": {
      "text/plain": [
       "(2502, 626, 783, 3)"
      ]
     },
     "execution_count": 5,
     "metadata": {},
     "output_type": "execute_result"
    }
   ],
   "source": [
    "len(train_df), len(val_df), len(test_df), len(predict_df)"
   ]
  },
  {
   "cell_type": "code",
   "execution_count": 6,
   "metadata": {},
   "outputs": [
   ],
   "source": [
    "train_df.head(1)"
   ]
  },
  {
   "cell_type": "code",
   "execution_count": 7,
   "metadata": {},
   "outputs": [
   ],
   "source": [
    "lit_datamodule = NLPDataModule(\n",
    "    DataModuleConfig.label_column,\n",
    "    train_df,\n",
    "    val_df,\n",
    "    test_df,\n",
    "    pretrained_model_name=ModuleConfig.model_name,\n",
    "    batch_size=DataModuleConfig.batch_size,\n",
    "    num_workers=DataModuleConfig.num_workers,\n",
    "    seed=Config.seed,\n",
    ")"
   ]
  },
  {
   "cell_type": "code",
   "execution_count": 8,
   "metadata": {},
   "outputs": [],
   "source": [
    "lit_model = BertRegression(pretrained_model=ModuleConfig.model_name, learning_rate=ModuleConfig.learning_rate)"
   ]
  },
  {
   "cell_type": "code",
   "execution_count": 9,
   "metadata": {},
   "outputs": [],
   "source": [
    "# lit_datamodule.setup()\n",
    "# batch = next(iter(lit_datamodule.train_dataloader()))\n",
    "# inputs, label = batch\n",
    "# lit_model(**inputs)"
   ]
  },
  {
   "cell_type": "code",
   "execution_count": 12,
   "metadata": {},
   "outputs": [
   ],
   "source": [
    "callbacks = [\n",
    "    EarlyStopping(monitor=\"val-RMSE\", mode=\"min\", verbose=True, patience=10),\n",
    "    ModelCheckpoint(\n",
    "        dirpath=Config.ckpt_dir,\n",
    "        filename=\"model\",\n",
    "    ),\n",
    "    LearningRateMonitor(logging_interval='step'),\n",
    "]\n",
    "\n",
    "loggers = [\n",
    "    CSVLogger(\n",
    "        save_dir=Config.log_dir,\n",
    "        name=\"csv-logs\",\n",
    "    ),\n",
    "    TensorBoardLogger(\n",
    "        Config.log_dir / \"tb_logs\", \n",
    "        name=\"my_model\"\n",
    "    ),\n",
    "]\n",
    "\n",
    "lit_trainer = pl.Trainer(\n",
    "    precision=\"16-mixed\",\n",
    "    max_epochs=25,\n",
    "    deterministic=True,\n",
    "    logger=loggers,\n",
    "    callbacks=callbacks,\n",
    "    log_every_n_steps=10,\n",
    "    profiler=PyTorchProfiler(output_filename=Config.prof_dir / \"profiler.txt\"),\n",
    "    #gpus=-1,\n",
    "    accelerator=\"auto\",\n",
    "    strategy=\"ddp_notebook\",\n",
    ")"
   ]
  }
 ],
 "metadata": {
  "kernelspec": {
   "display_name": ".venv",
   "language": "python",
   "name": "python3"
  },
  "language_info": {
   "codemirror_mode": {
    "name": "ipython",
    "version": 3
   },
   "file_extension": ".py",
   "mimetype": "text/x-python",
   "name": "python",
   "nbconvert_exporter": "python",
   "pygments_lexer": "ipython3",
   "version": "3.11.7"
  }
 },
 "nbformat": 4,
 "nbformat_minor": 2
}
